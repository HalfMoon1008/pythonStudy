{
 "cells": [
  {
   "cell_type": "code",
   "execution_count": null,
   "metadata": {},
   "outputs": [],
   "source": [
    "## 문제 _ 이코테 기준\n",
    "\n",
    "## 큰수의 법칙\n",
    "# 큰 수의 법칙은 다양한 수로 이루어진 배열이 있을때 주어진 수들을 M번 더하여 가장 큰 수를 만드는 법칙이다.\n",
    "# 단, 배열의 특정한 인덱스(번호)에 해당하는 수가 연속해서 K번을 초과하여 더해질 수 없는 것이 이 법칙의 특징\n",
    "# 예를 들어 2, 4, 5, 4, 6으로 이루어진 배열이 있을 때, M이 8이고, K가 3이라 한다면\n",
    "# 특정한 인덱스의 수가 연속해서 3번까지만 더해질 수 있으므로\n",
    "# 큰 수의 법칙에 따른 결과는 6 + 6 + 6 + 5 + 6 + 6 + 6 + 5인 46이 된다.\n",
    "# 단, 서로 다른 인덱스에 대항하는 수가 같은 경우에도 서로 다른 것으로 간주한다.\n",
    "# 예를 들어 순서대로 3, 4, 3, 4, 3으로 이루어진 배열이 있을 때, M이 7이 되고, K가 2라면,\n",
    "# 위의 경우 두 번째 원소에 해당하는 4와 네 번째 원소에 해당하는 4를 번갈아 두 번씩 더하는 것이 가능하다.\n",
    "# 그렇기에 4 + 4 + 4 + 4 + 4 + 4 + 4인 28이 도출된다.\n",
    "# 배열의 크기가 N, 숫자가 더해지는 횟수 M, 그리고 K가 주어질 때 큰 수의 법칙에 따른 결과를 출력하시오\n",
    "\n",
    "## 입력 조건\n",
    "# 첫째 줄에 N (2 <= N <= 1,000), M(1 <= M <= 10,000), K(1 <= K <= 10,000)의 자연수가 주어지며, 각 자연수는 공백으로 구분\n",
    "# 둘째 줄에 N개의 자연수가 주어진다. 각 자연수는 공백으로 구분한다. 단, 각각의 자연수는 1 이상 10,000 이하의 수로 주어진다.\n",
    "# 입력으로 주어지는 K는 항상 M보다 작거나 같다.\n",
    "\n",
    "## 출력 조건\n",
    "# input 예시\n",
    "# 5 8 3\n",
    "# 2 4 5 4 6\n",
    "\n",
    "# output 예시\n",
    "# 46"
   ]
  },
  {
   "cell_type": "code",
   "execution_count": null,
   "metadata": {},
   "outputs": [],
   "source": [
    "## 풀이\n",
    "# 문제 이해\n",
    "# N : 배열의 크기\n",
    "# M : 숫자가 더해지는 횟수\n",
    "# K : 연속하여 더하기 limit\n",
    "\n",
    "# 1. input은 공백으로 구분된다.\n",
    "# 2. 리스트를 내림차순으로 정렬한다.\n",
    "# 2. K의 횟수안에서 [0]을 M번 더한다.\n",
    "# 3. 각 횟수별로 결과값에 + 해준다.\n",
    "# 4. K의 횟수와 시행 횟수가 같아진다면 [1]을 1회 더해준다.\n",
    "# 5. 이를 m == 0이 될 때 까지 루프한다."
   ]
  },
  {
   "cell_type": "code",
   "execution_count": 3,
   "metadata": {},
   "outputs": [
    {
     "name": "stdout",
     "output_type": "stream",
     "text": [
      "46\n"
     ]
    }
   ],
   "source": [
    "# 시도\n",
    "\n",
    "n,m,k = map(int,input().split())\n",
    "data = list(map(int,input().split()))\n",
    "\n",
    "data.sort(reverse = True)\n",
    "\n",
    "biggest = data[0]\n",
    "snd_big = data[1]\n",
    "\n",
    "result = 0\n",
    "\n",
    "while True:\n",
    "    for i in range(k):\n",
    "        if m == 0:\n",
    "            break\n",
    "        m -= 1\n",
    "        result += biggest\n",
    "    if m == 0:\n",
    "        break\n",
    "    else:\n",
    "        result += snd_big\n",
    "        m -= 1\n",
    "print(result)\n",
    "\n",
    "\n"
   ]
  },
  {
   "cell_type": "code",
   "execution_count": 2,
   "metadata": {},
   "outputs": [
    {
     "name": "stdout",
     "output_type": "stream",
     "text": [
      "46\n"
     ]
    }
   ],
   "source": [
    "# 책의 정답\n",
    "\n",
    "#n, m, k 선언\n",
    "n,m,k = map(int, input().split())\n",
    "# 데이터를 리스트 형태로 받기\n",
    "data = list(map(int, input().split()))\n",
    "\n",
    "data.sort()\n",
    "first = data[n-1]\n",
    "second = data[n-2]\n",
    "\n",
    "result = 0\n",
    "\n",
    "while True:\n",
    "    for i in range(k):\n",
    "        if m==0:\n",
    "            break\n",
    "        result += first\n",
    "        m -= 1\n",
    "    if m == 0:\n",
    "        break\n",
    "    result += second\n",
    "    m -= 1\n",
    "print(result)"
   ]
  },
  {
   "cell_type": "code",
   "execution_count": null,
   "metadata": {},
   "outputs": [],
   "source": [
    "## 숫자 카드 게임\n",
    "# 숫자 카드 게임은 여러 개의 숫자 카드 중에서 가장 높은 숫자가 쓰인 카드 한 장을 뽑는 게임이다.\n",
    "# 단, 게임의 룰을 지키며 카드를 뽑아야 하고 룰은 다음과 같다.\n",
    "# 1. 숫자가 쓰인 카드들이 N x M 형태로 놓여 있다. 이때, N은 행의 개수를 의미하며, M은 열의 개수를 의미한다.\n",
    "# 2. 먼저 뽑고자 하는 카드가 포함되어 있는 행을 선택한다. (M을 선택)\n",
    "# 3. 그 다음 선택된 행에 포함된 카드들 중 가장 숫자가 낮은 카드를 뽑아야 한다.\n",
    "# 4. 따라서 처음에 카드를 골라낼 행을 선택할 때, 이후에 해당 행에서 가장 숫자가 낮은 카드를 뽑을 것을\n",
    "#    고려하여, 최종적으로 가장 높은 숫자의 카드를 뽑을 수 있도록 전략을 세워야한다.\n",
    "# 카드들이 N x M 형태로 놓여 있을 때, 게임의 룰에 맞게 카드를 뽑는 프로그램을 만드시오\n",
    "\n",
    "## 입력 조건\n",
    "# 첫째 줄에 숫자 카드들이 놓인 행의 개수 N과 열의 개수 M이 공백을 기준으로 하여 각각 자연수로 주어진다. (1 <= N,M <= 100)\n",
    "# 둘째 줄부터 N개의 줄에 걸쳐 각 카드에 적힌 숫자가 주어진다. 각 숫자는 1 이상 10,000 이하의 자연수이다.\n",
    "\n",
    "## 출력 조건\n",
    "# input 예시 1\n",
    "# 3 3\n",
    "# 3 1 2\n",
    "# 4 1 4\n",
    "# 2 2 2\n",
    "\n",
    "# output 예시 1\n",
    "# 2\n",
    "\n",
    "# input 예시 2\n",
    "# 2 4\n",
    "# 7 3 1 8\n",
    "# 3 3 3 4\n",
    "\n",
    "# output 예시 2\n",
    "# 3"
   ]
  },
  {
   "cell_type": "code",
   "execution_count": null,
   "metadata": {},
   "outputs": [],
   "source": [
    "## 풀이\n",
    "# 문제 이해\n",
    "\n",
    "# N : 행의 수\n",
    "# M : 열의 수\n",
    "\n",
    "# 1. input은 공백을 기준으로 나눠진다.\n",
    "# 2. 2번째 부터 입력을 수가 M과 같지 않다면, 재입력하라고 보낸다.\n",
    "# 3. 입력된 리스트의 수가 N과 같지 않다면, 재입력하라고 보낸다.\n",
    "# 4. 각 줄의 입력을 각기 다른 리스트로 만든다.\n",
    "# 5. 각 리스트를 오름차순으로 정렬한다.\n",
    "# 6. 각 리스트의 [0]값만 포함하는 result_list를 만든다.\n",
    "# 7. result_list를 내림차순으로 정렬한다.\n",
    "# 8. result_list[0]을 출력한다."
   ]
  },
  {
   "cell_type": "code",
   "execution_count": 16,
   "metadata": {},
   "outputs": [
    {
     "name": "stdout",
     "output_type": "stream",
     "text": [
      "[1]\n",
      "[1, 3]\n",
      "3\n"
     ]
    }
   ],
   "source": [
    "# 시도\n",
    "N, M = map(int,input().split())\n",
    "result_list = []\n",
    "\n",
    "for i in range(N):\n",
    "    data = list(map(int,input().split()))\n",
    "    data.sort()\n",
    "    result_list.append(data[0])\n",
    "    result_list.sort(reverse=True)\n",
    "print(result_list[0])"
   ]
  },
  {
   "cell_type": "code",
   "execution_count": 17,
   "metadata": {},
   "outputs": [
    {
     "name": "stdout",
     "output_type": "stream",
     "text": [
      "1\n",
      "1\n",
      "2\n",
      "2\n"
     ]
    }
   ],
   "source": [
    "# 책의 정답\n",
    "\n",
    "# min을 사용한 정답\n",
    "n,m = map(int,input().split())\n",
    "result = 0\n",
    "\n",
    "for i in range(n):\n",
    "    data = list(map(int,input().split()))\n",
    "    min_value = min(data)\n",
    "    print(min_value)\n",
    "    result = max(result, min_value)\n",
    "print(result)"
   ]
  },
  {
   "cell_type": "code",
   "execution_count": 19,
   "metadata": {},
   "outputs": [
    {
     "name": "stdout",
     "output_type": "stream",
     "text": [
      "3\n"
     ]
    }
   ],
   "source": [
    "# 2중 for문\n",
    "\n",
    "n,m = map(int,input().split())\n",
    "result = 0\n",
    "\n",
    "for i in range(n):\n",
    "    data = list(map(int,input().split()))\n",
    "    min_value = 10001\n",
    "    for a in data:\n",
    "        min_value = min(min_value,a)\n",
    "    result = max(result,min_value)\n",
    "print(result)"
   ]
  },
  {
   "cell_type": "code",
   "execution_count": null,
   "metadata": {},
   "outputs": [],
   "source": [
    "## 1이 될 때 까지\n",
    "# 어떠한 수 N이 1이 될 때 까지 다음의 두 과정 중 하나를 반복적으로 선택하여 수행하려고 한다.\n",
    "# 단, 두 번째 연산은 N이 K로 나누어 떨어질 때만 선택할 수 있다.\n",
    "# 1. N에서 1을 뺀다\n",
    "# 2. N을 K로 나눈다.\n",
    "# 예를 들어 N이 17, K가 4라고 가정하자.\n",
    "# 이때, 1번의 과정을 한 번 수행하면 N은 16이 된다.\n",
    "# 이후에 2번의 과정을 두 번 수행하면 N은 1이 된다.\n",
    "# 결과적으로 이 경우 전체 과정을 실행한 횟수는 3이된다.\n",
    "# 이는 N을 1로 만드는 최소 횟수이다.\n",
    "# N과 K가 주어질 때 N이 1이 될 때 까지 1번 혹은 2번의 과정을 수행해야 하는 최소 횟수를 구하는 프로그램을 작성하시오\n",
    "\n",
    "# 입력 조건\n",
    "# 첫째 줄에 N(2 <= N <= 100,000)과 K(2 <= K <= 100,000)가 공백으로 구분되며 각각 자연수로 주어진다.\n",
    "# 이때, 입력으로 주어지는 N은 항상 K보다 크거나 같다.\n",
    "\n",
    "# 출력 조건\n",
    "# 철째 줄에 N이 1이 될 떄까지 1번 혹은 2번의 과정을 수행해야하는 횟수의 최솟값을 출력한다.\n",
    "\n",
    "# 입력 예시\n",
    "# 25 5\n",
    "\n",
    "# 출력 예시\n",
    "# 2"
   ]
  },
  {
   "cell_type": "code",
   "execution_count": null,
   "metadata": {},
   "outputs": [],
   "source": [
    "## 문제 분석\n",
    "# N : 타겟이 되는 수\n",
    "# K : 나눌 수 있는 수\n",
    "\n",
    "# 인공구\n",
    "# 1. 횟수를 count할 count = 0 을 만든다.\n",
    "# 2. N % K == 0이면 나눈다.\n",
    "# 3. else, N -= 1\n",
    "# 반복"
   ]
  },
  {
   "cell_type": "code",
   "execution_count": 23,
   "metadata": {},
   "outputs": [
    {
     "name": "stdout",
     "output_type": "stream",
     "text": [
      "6\n"
     ]
    }
   ],
   "source": [
    "# 시도\n",
    "N, K = map(int,input().split())\n",
    "count = 0\n",
    "\n",
    "while True:\n",
    "    if N == 1:\n",
    "        break\n",
    "    if N % K == 0:\n",
    "        N = N / K\n",
    "        count += 1\n",
    "    else:\n",
    "        N -= 1\n",
    "        count += 1\n",
    "print(count)"
   ]
  },
  {
   "cell_type": "code",
   "execution_count": 26,
   "metadata": {},
   "outputs": [
    {
     "name": "stdout",
     "output_type": "stream",
     "text": [
      "6\n"
     ]
    }
   ],
   "source": [
    "# 책의 정답\n",
    "n, k = map(int,input().split())\n",
    "result = 0\n",
    "\n",
    "while n >= k:\n",
    "    while n % k != 0:\n",
    "        n -= 1\n",
    "        result += 1\n",
    "    n //= K\n",
    "    result += 1\n",
    "\n",
    "while n > 1:\n",
    "    n -= 1\n",
    "    result += 1\n",
    "print(result)"
   ]
  },
  {
   "cell_type": "code",
   "execution_count": null,
   "metadata": {},
   "outputs": [],
   "source": []
  }
 ],
 "metadata": {
  "kernelspec": {
   "display_name": "yeardream",
   "language": "python",
   "name": "python3"
  },
  "language_info": {
   "codemirror_mode": {
    "name": "ipython",
    "version": 3
   },
   "file_extension": ".py",
   "mimetype": "text/x-python",
   "name": "python",
   "nbconvert_exporter": "python",
   "pygments_lexer": "ipython3",
   "version": "3.8.13"
  },
  "orig_nbformat": 4
 },
 "nbformat": 4,
 "nbformat_minor": 2
}
