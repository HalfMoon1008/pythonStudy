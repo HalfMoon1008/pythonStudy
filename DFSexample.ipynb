{
 "cells": [
  {
   "cell_type": "code",
   "execution_count": 1,
   "metadata": {},
   "outputs": [
    {
     "name": "stdout",
     "output_type": "stream",
     "text": [
      "[[0, 7, 5], [7, 0, 9999999999], [5, 9999999999, 0]]\n"
     ]
    }
   ],
   "source": [
    "## 인접행렬\n",
    "# 2차원 배열에 각 노드가 연결된 형태를 기록하는 방식\n",
    "# 연결이 되지 않은 노드끼리는 무한의 비용이라고 작성\n",
    "\n",
    "INF = 9999999999\n",
    "\n",
    "graph = [\n",
    "    [0,7,5],\n",
    "    [7,0,INF],\n",
    "    [5,INF,0]\n",
    "]\n",
    "\n",
    "print(graph)"
   ]
  },
  {
   "cell_type": "code",
   "execution_count": 4,
   "metadata": {},
   "outputs": [
    {
     "name": "stdout",
     "output_type": "stream",
     "text": [
      "[[(1, 7), (2, 5)], [(0, 7)], [(0, 5)]]\n"
     ]
    }
   ],
   "source": [
    "# 행이 3개인 2차원 리스트로 인접 리스트 표현\n",
    "graph = [[] for _ in range(3)]\n",
    "\n",
    "\n",
    "# Node 0에 연결된 노드 정보 저장(노드, 거리)\n",
    "graph[0].append((1,7))\n",
    "graph[0].append((2,5))\n",
    "\n",
    "# Node 1에 연결된 노드 정보 저장(노드, 거리)\n",
    "graph[1].append((0,7))\n",
    "\n",
    "# Node 2에 연결된 노드 정보 저장(노드, 거리)\n",
    "graph[2].append((0,5))\n",
    "\n",
    "\n",
    "print(graph)"
   ]
  },
  {
   "cell_type": "code",
   "execution_count": 7,
   "metadata": {},
   "outputs": [
    {
     "name": "stdout",
     "output_type": "stream",
     "text": [
      "1 2 7 6 8 3 4 5 "
     ]
    }
   ],
   "source": [
    "# DFS 함수 정의\n",
    "def dfs(graph, v, visited):\n",
    "    # 현재 노드를 방문 처리\n",
    "    visited[v] = True\n",
    "    print(v, end=' ')\n",
    "    # 현재 노드와 연결된 다른 노드를 재귀적으로 방문\n",
    "    for i in graph[v]:\n",
    "        if not visited[i]:\n",
    "            dfs(graph, i, visited)\n",
    "\n",
    "# 각 노드가 연결된 정보를 리스트 자료형으로 표현(2차원 리스트)\n",
    "graph = [\n",
    "  [],\n",
    "  [2, 3, 8],\n",
    "  [1, 7],\n",
    "  [1, 4, 5],\n",
    "  [3, 5],\n",
    "  [3, 4],\n",
    "  [7],\n",
    "  [2, 6, 8],\n",
    "  [1, 7]\n",
    "]\n",
    "\n",
    "# 각 노드가 방문된 정보를 리스트 자료형으로 표현(1차원 리스트)\n",
    "visited = [False] * 9\n",
    "\n",
    "# 정의된 DFS 함수 호출\n",
    "dfs(graph, 1, visited)"
   ]
  },
  {
   "cell_type": "code",
   "execution_count": null,
   "metadata": {},
   "outputs": [],
   "source": []
  }
 ],
 "metadata": {
  "kernelspec": {
   "display_name": "yeardream",
   "language": "python",
   "name": "python3"
  },
  "language_info": {
   "codemirror_mode": {
    "name": "ipython",
    "version": 3
   },
   "file_extension": ".py",
   "mimetype": "text/x-python",
   "name": "python",
   "nbconvert_exporter": "python",
   "pygments_lexer": "ipython3",
   "version": "3.8.13"
  },
  "orig_nbformat": 4
 },
 "nbformat": 4,
 "nbformat_minor": 2
}
