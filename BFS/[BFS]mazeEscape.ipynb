{
 "cells": [
  {
   "cell_type": "code",
   "execution_count": null,
   "metadata": {},
   "outputs": [],
   "source": [
    "## 미로 탈출\n",
    "# 동빈이는 N x M 크기의 직사각형 형태의 미로에 갇혀 있다.\n",
    "# 미로에는 여러 마리의 괴물이 있어 이를 피해 탈출해야 한다.\n",
    "# 동빈이의 위치는 (1, 1)이고 미로의 출구는 (N, M)의 위치에 존재하며\n",
    "# 한 번에 한 칸씩 이동할 수 있다.\n",
    "# 이때, 괴물이 있는 부분은 0으로, 괴물이 없는 부분은 1로 표시되어 있다.\n",
    "# 미로는 반드시 탈출할 수 있는 형태로 제시된다.\n",
    "# 이때 동빈이가 탈출하기 위해 움직여야 하는 최소 칸의 개수를 구하시오\n",
    "# 칸을 셀 때는 시작 칸과 마지막 칸을 모두 포함해서 계산한다.\n",
    "\n",
    "## 입력 조건\n",
    "# 첫째 줄에 두 정수 N, M이 주어집니다.\n",
    "# 다음 N개의 줄에는 각가 M개의 정수(0 혹은 1)로 미로의 정보가 주어진다.\n",
    "# 각각의 수들은 공백 없이 붙어서 입력으로 제시된다.\n",
    "# 또한 시작 칸과 마지칵 칸은 항상 1이다.\n",
    "\n",
    "## 출력 조건\n",
    "# 첫째 줄에 최소 이동 칸의 개수를 출력한다.\n",
    "\n",
    "## 입력 예시\n",
    "# 5 6\n",
    "# 101010\n",
    "# 111111\n",
    "# 000001\n",
    "# 111111\n",
    "# 111111\n",
    "\n",
    "## 출력 예시\n",
    "# 10"
   ]
  },
  {
   "cell_type": "code",
   "execution_count": null,
   "metadata": {},
   "outputs": [],
   "source": [
    "from collections import deque\n",
    "\n",
    "# N, M을 공백을 기준으로 구분하여 입력 받기\n",
    "n, m = map(int, input().split())\n",
    "# 2차원 리스트의 맵 정보 입력 받기\n",
    "graph = []\n",
    "for i in range(n):\n",
    "    graph.append(list(map(int, input())))\n",
    "\n",
    "# 이동할 네 가지 방향 정의 (상, 하, 좌, 우)\n",
    "dx = [-1, 1, 0, 0]\n",
    "dy = [0, 0, -1, 1]\n",
    "\n",
    "# BFS 소스코드 구현\n",
    "def bfs(x, y):\n",
    "    # 큐(Queue) 구현을 위해 deque 라이브러리 사용\n",
    "    queue = deque()\n",
    "    queue.append((x, y))\n",
    "    # 큐가 빌 때까지 반복하기\n",
    "    while queue:\n",
    "        x, y = queue.popleft()\n",
    "        # 현재 위치에서 4가지 방향으로의 위치 확인\n",
    "        for i in range(4):\n",
    "            nx = x + dx[i]\n",
    "            ny = y + dy[i]\n",
    "            # 미로 찾기 공간을 벗어난 경우 무시\n",
    "            if nx < 0 or nx >= n or ny < 0 or ny >= m:\n",
    "                continue\n",
    "            # 벽인 경우 무시\n",
    "            if graph[nx][ny] == 0:\n",
    "                continue\n",
    "            # 해당 노드를 처음 방문하는 경우에만 최단 거리 기록\n",
    "            if graph[nx][ny] == 1:\n",
    "                graph[nx][ny] = graph[x][y] + 1\n",
    "                queue.append((nx, ny))\n",
    "    # 가장 오른쪽 아래까지의 최단 거리 반환\n",
    "    return graph[n - 1][m - 1]\n",
    "\n",
    "# BFS를 수행한 결과 출력\n",
    "print(bfs(0, 0))"
   ]
  },
  {
   "cell_type": "code",
   "execution_count": null,
   "metadata": {},
   "outputs": [],
   "source": []
  }
 ],
 "metadata": {
  "kernelspec": {
   "display_name": "yeardream",
   "language": "python",
   "name": "python3"
  },
  "language_info": {
   "codemirror_mode": {
    "name": "ipython",
    "version": 3
   },
   "file_extension": ".py",
   "mimetype": "text/x-python",
   "name": "python",
   "nbconvert_exporter": "python",
   "pygments_lexer": "ipython3",
   "version": "3.8.13"
  },
  "orig_nbformat": 4
 },
 "nbformat": 4,
 "nbformat_minor": 2
}
