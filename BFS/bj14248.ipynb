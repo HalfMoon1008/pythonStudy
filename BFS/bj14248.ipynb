{
 "cells": [
  {
   "cell_type": "code",
   "execution_count": null,
   "metadata": {},
   "outputs": [],
   "source": [
    "## 점프점프 / 백준 14248\n",
    "\n",
    "# 영우는 개구리다 개굴개굴개굴\n",
    "# 영우는 지금 n개의 돌이 일렬로 놓여있는 돌다리에 있다. \n",
    "# 그리고 돌다리의 돌에는 숫자가 하나씩 적혀있다. \n",
    "# 영우는 이 숫자가 적혀있는 만큼 왼쪽이나 오른쪽으로 점프할 수 있는데, 이때 돌다리 밖으로 나갈 수는 없다.\n",
    "# 영우는 이 돌다리에서 자기가 방문 가능한 돌들의 개수를 알고 싶어한다.\n",
    "# 방문 가능하다는 것은 현재위치에서 다른 돌을 적절히 밟아 해당하는 위치로 이동이 가능하다는 뜻이다.\n",
    "# 현재 위치가 주어졌을 때, 영우가 방문 가능한 돌들의 개수를 출력하시오.\n",
    "\n",
    "## 입력예시\n",
    "# 5\n",
    "# 1 4 2 2 1\n",
    "# 3\n",
    "\n",
    "## 출력예시\n",
    "# 5"
   ]
  },
  {
   "cell_type": "code",
   "execution_count": 1,
   "metadata": {},
   "outputs": [
    {
     "name": "stdout",
     "output_type": "stream",
     "text": [
      "5\n"
     ]
    }
   ],
   "source": [
    "from collections import deque\n",
    "\n",
    "n = int(input())\n",
    "array = list(map(int, input().split()))\n",
    "start = int(input())-1\n",
    "visited = [0] * n\n",
    "result = 0\n",
    "\n",
    "def bfs(start):\n",
    "    global result\n",
    "    queue = deque()\n",
    "    queue.append(start)\n",
    "    visited[start] = 1\n",
    "    result += 1\n",
    "\n",
    "    while queue:\n",
    "        node = queue.popleft()\n",
    "        for i in [-array[node], array[node]]:\n",
    "            temp = node + i\n",
    "            if 0 <= temp < n and visited[temp] == 0:\n",
    "                queue.append(temp)\n",
    "                result += 1\n",
    "                visited[temp] = 1\n",
    "\n",
    "bfs(start)\n",
    "print(result)"
   ]
  },
  {
   "cell_type": "code",
   "execution_count": null,
   "metadata": {},
   "outputs": [],
   "source": []
  }
 ],
 "metadata": {
  "kernelspec": {
   "display_name": "yeardream",
   "language": "python",
   "name": "python3"
  },
  "language_info": {
   "codemirror_mode": {
    "name": "ipython",
    "version": 3
   },
   "file_extension": ".py",
   "mimetype": "text/x-python",
   "name": "python",
   "nbconvert_exporter": "python",
   "pygments_lexer": "ipython3",
   "version": "3.8.13"
  },
  "orig_nbformat": 4
 },
 "nbformat": 4,
 "nbformat_minor": 2
}
