{
 "cells": [
  {
   "cell_type": "code",
   "execution_count": null,
   "metadata": {},
   "outputs": [],
   "source": [
    "## 상하좌우\n",
    "\n",
    "# 여행가 A는 N x N 크기의 정사각형 공간 위에 서 있다.\n",
    "# 이 공간은 1 x 1크기의 정사각형으로 나누어져 있다.\n",
    "# 가장 왼쪽 위 좌표는 (1,1)이며, 가장 오른쪽 아래 좌표는 (N, N)에 해당한다.\n",
    "# 여행가 A는 상, 하, 좌, 우 방향으로 이동할 수 있으며, 시작 좌표는 항상 (1,1)이다.\n",
    "# 우리 앞에는 여행가 A가 이동할 계획이 적힌 계획서가 놓여있다.\n",
    "# 계획서에는 하나의 줄에 띄어쓰기를 기준으로 하여 L, R, U, D 중 하나의 문자가 반복적으로 적혀있다.\n",
    "# L : 왼쪽으로 한 칸 이동\n",
    "# R : 오른쪽으로 한 칸 이동\n",
    "# U : 위로 한 칸 이동\n",
    "# D : 아래로 한 칸 이동\n",
    "# 이때, 여행가 A가 N x N크기의 정사각형 공간을 벗어나는 움직임은 무시된다.\n",
    "# 예를 들어, (1,1)의 위치에서 L 혹은 U를 만나면 무시된다.\n",
    "# 다음은 N = 5인 지도와 계획서이다.\n",
    "# R - R - R - U - D - D\n",
    "# 이 경우 6개의 명령에 따라 여행가가 움직이게 되는 위치는 순서대로\n",
    "# (1,2) - (1,3) - (1,4) - (1,4) - (2,4) - (3,4)이다.\n",
    "# 중간에 있는 명령어 U의 경우, N x N 크기를 벗어나는 명령어이기 때문에 무시한다.\n",
    "# 그리고 여행가 A가 도착하는 최종 좌표는 (3,4)이다.\n",
    "# 이때, 계획서가 주어졌을 때 여행가 A가 최종적으로 도착할 지점의 좌표를 출력하는 프로그램을 작성하시오.\n",
    "\n",
    "## 입력조건\n",
    "# 첫째 줄에 공간의 크기를 나타내는 N이 주어진다. 공간의 크기는 N x N이 된다.\n",
    "# 둘째 줄에 여행가 A가 이동할 계획서 내용이 주어진다.\n",
    "\n",
    "## 출력조건\n",
    "# 첫째 줄에 여행가 A가 최종적으로 도착할 지점의 좌표 (X, Y)를 공백으로 구분하여 출력한다.\n",
    "\n",
    "# 입력 예시\n",
    "# 5\n",
    "# R R R U D D\n",
    "\n",
    "# 출력 예시\n",
    "# 3 4"
   ]
  },
  {
   "cell_type": "code",
   "execution_count": null,
   "metadata": {},
   "outputs": [],
   "source": [
    "## 문제 이해\n",
    "\n",
    "# (y, x)가 있을 때, x는 행의 이동, y는 열의 이동\n",
    "# 이때 X와 Y의 초기값은 각각 1이다.\n",
    "# R : 오른쪽으로 한 칸 _ + (0, 1)\n",
    "# L : 왼쪽으로 한 칸 _ + (0, -1)\n",
    "# U : 위로 한 칸 _ + (1, 0)\n",
    "# D : 아래로 한 칸 _ + (-1, 0)\n",
    "\n",
    "# 각각의 R,L과 U,D를 입력받을 변수 X, Y 선언\n",
    "# N < X or N < Y가 더 커지면 pass 사용\n",
    "# 그렇지 않은 경우, R L U D에 맞게 X 혹은 Y에 더해주기\n",
    "# 최종적으로 X와 Y를 output"
   ]
  },
  {
   "cell_type": "code",
   "execution_count": 12,
   "metadata": {},
   "outputs": [
    {
     "name": "stdout",
     "output_type": "stream",
     "text": [
      "3 4\n"
     ]
    }
   ],
   "source": [
    "## 책의 정답\n",
    "\n",
    "n = int(input())\n",
    "x,y = 1, 1\n",
    "plans = input().split()\n",
    "\n",
    "dx = [0,0,-1,1]\n",
    "dy = [-1,1,0,0]\n",
    "move_types = ['L','R','U','D']\n",
    "\n",
    "\n",
    "for plan in plans:\n",
    "    for i in range(len(move_types)):\n",
    "        if plan == move_types[i]:\n",
    "            nx = x + dx[i]\n",
    "            ny = y + dy[i]\n",
    "    if nx < 1 or ny < 1 or nx > n or ny > n:\n",
    "        continue\n",
    "    x,y = nx, ny\n",
    "print(x,y)"
   ]
  },
  {
   "cell_type": "code",
   "execution_count": null,
   "metadata": {},
   "outputs": [],
   "source": [
    "## 시각\n",
    "\n",
    "# 정수 N이 입력되면 00시 00분 00초부터 N시 59분 59초까지의 모든 시각 중에서\n",
    "# 3이 하나라도 포함되는 모든 경우의 수를 구하는 프로그램을 작성하시오.\n",
    "# 예를 들어 1을 입력했을 때, 다음은 3이 하나라도 포함되어 있으므로 세어야 하는 시각이다.\n",
    "# - 00시 00분 03초\n",
    "# - 00시 13분 30초\n",
    "# 반면에 다음은 3이 하나도 포함되어 있지 않으므로 세면 안되는 시각이다.\n",
    "# - 00시 02분 55초\n",
    "# - 01시 27분 45초\n",
    "\n",
    "# 입력 조건\n",
    "# 첫째 줄에 정수 N이 입력된다.\n",
    "# 출력 조건\n",
    "# 00시 00분 00초부터 N시 59분 59초\n",
    "\n",
    "# 입력 예시\n",
    "# 5\n",
    "# 출력 예시\n",
    "# 11475"
   ]
  },
  {
   "cell_type": "code",
   "execution_count": 13,
   "metadata": {},
   "outputs": [
    {
     "name": "stdout",
     "output_type": "stream",
     "text": [
      "11475\n"
     ]
    }
   ],
   "source": [
    "# 책의 정답\n",
    "\n",
    "h = int(input())\n",
    "\n",
    "count = 0\n",
    "for i in range(h + 1):\n",
    "    for j in range(60):\n",
    "        for k in range(60):\n",
    "            if '3' in str(i) + str(j) + str(k):\n",
    "                count += 1\n",
    "print(count)"
   ]
  },
  {
   "cell_type": "code",
   "execution_count": null,
   "metadata": {},
   "outputs": [],
   "source": [
    "## 왕실나이트\n",
    "# 행복 왕국의 왕실 정원은 체스판과 같은 8 x 8좌표 평면이다.\n",
    "# 왕실 정원의 특정한 한 칸에 나이트가 서 있다.\n",
    "# 나이트는  말을 타고 있기 때문에 이동을 할 때는 L자 형태로만 이동할 수 있으며 정원 밖으로 나갈 수 없다.\n",
    "# 나이트는 특정한 위치에서 다음과 같은 2가지 경우로 이동할 수 있다.\n",
    "# 1. 수평으로 두 칸 이동한 뒤에 수직으로 한 칸 이동하기\n",
    "# 2. 수직으로 두 칸 이동한 뒤에 수평으로 한 칸 이동하기\n",
    "# 이처럼 8 x 8 좌표 평면상에서 나이트으 위치가 주어졌을 때 나이트가 이동할 수 있는 경우의 수를 출력하는 프로그램을 작성하라.\n",
    "\n",
    "# (1,a) ~ (8,h)\n",
    "# 이때, 왕실의 정원에서 행 위치를 표한할 때는 1부터 8로 표현하며, 열 위치를 표현할 때는 a부터 h로 표한한다.\n",
    "# 예를 들어 만약 나이트가 a1에 있을 때 이동할 수 있는 경우의 수는 다음 2가지이다.\n",
    "# a1의 위치는 좌표 평면에서 구석의 위치에 해당하며 나이트는 정원의 밖으로는 나갈 수 없다.\n",
    "# 1. 오른쪽으로 두 칸 이동 후 아래로 한 칸 이동하기(c2)\n",
    "# 2. 아래로 두 칸 이동 후 오른쪽으로 한 칸 이동하기(b3)\n",
    "# 또 다른 예로 나이트가 c2에 위치해 있다면 나이트가 이동할 수 있는 경우의 수는 6가지이다.\n",
    "\n",
    "# 입력 조건\n",
    "# 첫째 줄에 8 x 8 좌표 평면상에서 현재 나이트가 위치한 곳의 좌표를 나타내는 두 문자로 구성된 문자열이 입력된다.\n",
    "# 입력 문자는 a1처럼 열과 행으로 이뤄진다.\n",
    "\n",
    "# 출력 조건\n",
    "# 첫째 줄에 나이트가 이동할 수 있는 경우의 수를 출력하시오.\n",
    "\n",
    "# 입력 예시\n",
    "# a1\n",
    "\n",
    "# 출력 예시\n",
    "# 2"
   ]
  },
  {
   "cell_type": "code",
   "execution_count": 14,
   "metadata": {},
   "outputs": [
    {
     "name": "stdout",
     "output_type": "stream",
     "text": [
      "2\n"
     ]
    }
   ],
   "source": [
    "# 책의 예시\n",
    "\n",
    "input_data = input()\n",
    "row = int(input_data[1])\n",
    "column = int(ord(input_data[0])) - int(ord('a')) + 1\n",
    "\n",
    "steps = [(-2,-1),(-1,-2),(1,-2),(2,-1),(2,-1),(2,1),(1,2),(-1,2),(-2,1)]\n",
    "\n",
    "result = 0\n",
    "for step in steps:\n",
    "    next_row = row + step[0]\n",
    "    next_column = column + step[1]\n",
    "    if next_row >= 1 and next_row <= 8 and next_column >= 1 and next_column <= 8:\n",
    "        result += 1\n",
    "print(result)"
   ]
  },
  {
   "cell_type": "code",
   "execution_count": null,
   "metadata": {},
   "outputs": [],
   "source": []
  }
 ],
 "metadata": {
  "kernelspec": {
   "display_name": "yeardream",
   "language": "python",
   "name": "python3"
  },
  "language_info": {
   "codemirror_mode": {
    "name": "ipython",
    "version": 3
   },
   "file_extension": ".py",
   "mimetype": "text/x-python",
   "name": "python",
   "nbconvert_exporter": "python",
   "pygments_lexer": "ipython3",
   "version": "3.8.13"
  },
  "orig_nbformat": 4
 },
 "nbformat": 4,
 "nbformat_minor": 2
}
