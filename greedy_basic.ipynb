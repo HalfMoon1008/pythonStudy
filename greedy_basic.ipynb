{
 "cells": [
  {
   "cell_type": "code",
   "execution_count": null,
   "metadata": {},
   "outputs": [],
   "source": [
    "## 문제 _ 이코테 기준\n",
    "\n",
    "## 큰수의 법칙\n",
    "# 큰 수의 법칙은 다양한 수로 이루어진 배열이 있을때 주어진 수들을 M번 더하여 가장 큰 수를 만드는 법칙이다.\n",
    "# 단, 배열의 특정한 인덱스(번호)에 해당하는 수가 연속해서 K번을 초과하여 더해질 수 없는 것이 이 법칙의 특징\n",
    "# 예를 들어 2, 4, 5, 4, 6으로 이루어진 배열이 있을 때, M이 8이고, K가 3이라 한다면\n",
    "# 특정한 인덱스의 수가 연속해서 3번까지만 더해질 수 있으므로\n",
    "# 큰 수의 법칙에 따른 결과는 6 + 6 + 6 + 5 + 6 + 6 + 6 + 5인 46이 된다.\n",
    "# 단, 서로 다른 인덱스에 대항하는 수가 같은 경우에도 서로 다른 것으로 간주한다.\n",
    "# 예를 들어 순서대로 3, 4, 3, 4, 3으로 이루어진 배열이 있을 때, M이 7이 되고, K가 2라면,\n",
    "# 위의 경우 두 번째 원소에 해당하는 4와 네 번째 원소에 해당하는 4를 번갈아 두 번씩 더하는 것이 가능하다.\n",
    "# 그렇기에 4 + 4 + 4 + 4 + 4 + 4 + 4인 28이 도출된다.\n",
    "# 배열의 크기가 N, 숫자가 더해지는 횟수 M, 그리고 K가 주어질 때 큰 수의 법칙에 따른 결과를 출력하시오\n",
    "\n",
    "## 입력 조건\n",
    "# 첫째 줄에 N (2 <= N <= 1,000), M(1 <= M <= 10,000), K(1 <= K <= 10,000)의 자연수가 주어지며, 각 자연수는 공백으로 구분\n",
    "# 둘째 줄에 N개의 자연수가 주어진다. 각 자연수는 공백으로 구분한다. 단, 각각의 자연수는 1 이상 10,000 이하의 수로 주어진다.\n",
    "# 입력으로 주어지는 K는 항상 M보다 작거나 같다.\n",
    "\n",
    "## 출력 조건\n",
    "# input 예시\n",
    "# 5 8 3\n",
    "# 2 4 5 4 6\n",
    "\n",
    "# output 예시\n",
    "# 46"
   ]
  },
  {
   "cell_type": "code",
   "execution_count": null,
   "metadata": {},
   "outputs": [],
   "source": [
    "## 풀이\n",
    "\n",
    "# 문제 이해\n",
    "# N - 배열의 크기\n",
    "# M - 숫자가 더해지는 횟수\n",
    "# K - 연속하여 더하기 limit\n",
    "\n",
    "# 1. input은 공백으로 구분된다.\n",
    "# 2. N의 크기인 리스트를 만든다.\n",
    "# 3. N을 내림차순으로 정렬한다.\n",
    "# 4. [0]을 M만큼 더한다.\n",
    "# 5. 이때, K와 같은 횟수만큼 더 했다면,\n",
    "# 6. [1]을 1회 더한 뒤 다시 M으로 간다."
   ]
  },
  {
   "cell_type": "code",
   "execution_count": 3,
   "metadata": {},
   "outputs": [
    {
     "name": "stdout",
     "output_type": "stream",
     "text": [
      "46\n"
     ]
    }
   ],
   "source": [
    "# 시도\n",
    "\n",
    "n,m,k = map(int,input().split())\n",
    "data = list(map(int,input().split()))\n",
    "\n",
    "data.sort(reverse = True)\n",
    "\n",
    "biggest = data[0]\n",
    "snd_big = data[1]\n",
    "\n",
    "result = 0\n",
    "\n",
    "while True:\n",
    "    for i in range(k):\n",
    "        if m == 0:\n",
    "            break\n",
    "        m -= 1\n",
    "        result += biggest\n",
    "    if m == 0:\n",
    "        break\n",
    "    else:\n",
    "        result += snd_big\n",
    "        m -= 1\n",
    "print(result)\n",
    "\n",
    "\n"
   ]
  },
  {
   "cell_type": "code",
   "execution_count": 2,
   "metadata": {},
   "outputs": [
    {
     "name": "stdout",
     "output_type": "stream",
     "text": [
      "46\n"
     ]
    }
   ],
   "source": [
    "# 책의 정답\n",
    "\n",
    "#n, m, k 선언\n",
    "n,m,k = map(int, input().split())\n",
    "# 데이터를 리스트 형태로 받기\n",
    "data = list(map(int, input().split()))\n",
    "\n",
    "data.sort(reverse=True)\n",
    "first = data[0]\n",
    "second = data[1]\n",
    "\n",
    "result = 0\n",
    "\n",
    "while True:\n",
    "    for i in range(k):\n",
    "        if m==0:\n",
    "            break\n",
    "        result += first\n",
    "        m -= 1\n",
    "    if m == 0:\n",
    "        break\n",
    "    result += second\n",
    "    m -= 1\n",
    "print(result)"
   ]
  },
  {
   "cell_type": "code",
   "execution_count": null,
   "metadata": {},
   "outputs": [],
   "source": []
  }
 ],
 "metadata": {
  "kernelspec": {
   "display_name": "yeardream",
   "language": "python",
   "name": "python3"
  },
  "language_info": {
   "codemirror_mode": {
    "name": "ipython",
    "version": 3
   },
   "file_extension": ".py",
   "mimetype": "text/x-python",
   "name": "python",
   "nbconvert_exporter": "python",
   "pygments_lexer": "ipython3",
   "version": "3.8.13"
  },
  "orig_nbformat": 4
 },
 "nbformat": 4,
 "nbformat_minor": 2
}
