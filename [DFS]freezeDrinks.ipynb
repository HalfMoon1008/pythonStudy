{
 "cells": [
  {
   "cell_type": "code",
   "execution_count": null,
   "metadata": {},
   "outputs": [],
   "source": [
    "## 음료수 얼려 먹기\n",
    "# N x M 크기의 얼음 틀이 있다.\n",
    "# 구멍이 뚫려 있는 부분은 0,\n",
    "# 칸막이가 존재한느 부분은 1로 표시된다.\n",
    "# 구멍이 뚫려 있는 부분끼리 상, 하, 좌, 우로 붙어 있는 경우\n",
    "# 서로 연결되어 있는 것으로 간주한다.\n",
    "# 이때 얼음 틀의 모양이 주어졌을 때 생성되는 총 아이스크림의 개수를 구하는 프로그램을 작성하시오.\n",
    "# 다음의 4 x 5 얼음 틀 예시에서는 아이스크림이 총 3개 생성된다.\n",
    "\n",
    "## 입력 조건\n",
    "# 첫 번째 줄에 얼음 틀의 세로 길이 N과 가로 길이 M이 주어진다.\n",
    "# 두 번째 줄부터 N + 1번째 줄까지 얼음 틀의 형태가 주어진다.\n",
    "# 이때 구멍이 뚫려있는 부분은 0, 그렇지 않은 부분은 1이다.\n",
    "\n",
    "## 출력 조건\n",
    "# 한 번에 만들 수 있는 아이스크림의 개수를 출력한다.\n",
    "\n",
    "## 입력 예시\n",
    "# 4 5\n",
    "# 00110\n",
    "# 00011\n",
    "# 11111\n",
    "# 00000\n",
    "\n",
    "## 출력 예시\n",
    "# 3"
   ]
  },
  {
   "cell_type": "code",
   "execution_count": null,
   "metadata": {},
   "outputs": [],
   "source": [
    "## 문제 분석\n",
    "# 2차원 배열 형태의 그래프로 간주하여 상하좌우로 탐색하면서 0인 부분에서 재귀함수로 다시 탐색\n",
    "# 1이 나오면 종료하고 전체 함수가 종료되면 True를 반환하고 이후에 함수가 True를 반환하면 얼음 count"
   ]
  },
  {
   "cell_type": "code",
   "execution_count": 9,
   "metadata": {},
   "outputs": [
    {
     "ename": "IndexError",
     "evalue": "list index out of range",
     "output_type": "error",
     "traceback": [
      "\u001b[0;31m---------------------------------------------------------------------------\u001b[0m",
      "\u001b[0;31mIndexError\u001b[0m                                Traceback (most recent call last)",
      "\u001b[1;32m/Users/sanghyun/Desktop/Coding/00.Todo/python_algorithm/[DFS]freezeDrinks.ipynb 셀 3\u001b[0m in \u001b[0;36m<cell line: 36>\u001b[0;34m()\u001b[0m\n\u001b[1;32m     <a href='vscode-notebook-cell:/Users/sanghyun/Desktop/Coding/00.Todo/python_algorithm/%5BDFS%5DfreezeDrinks.ipynb#W4sZmlsZQ%3D%3D?line=35'>36</a>\u001b[0m \u001b[39mfor\u001b[39;00m j \u001b[39min\u001b[39;00m \u001b[39mrange\u001b[39m(n):\n\u001b[1;32m     <a href='vscode-notebook-cell:/Users/sanghyun/Desktop/Coding/00.Todo/python_algorithm/%5BDFS%5DfreezeDrinks.ipynb#W4sZmlsZQ%3D%3D?line=36'>37</a>\u001b[0m     \u001b[39mfor\u001b[39;00m k \u001b[39min\u001b[39;00m \u001b[39mrange\u001b[39m(m):\n\u001b[0;32m---> <a href='vscode-notebook-cell:/Users/sanghyun/Desktop/Coding/00.Todo/python_algorithm/%5BDFS%5DfreezeDrinks.ipynb#W4sZmlsZQ%3D%3D?line=37'>38</a>\u001b[0m         \u001b[39mif\u001b[39;00m dfs(j,k,\u001b[39m1\u001b[39;49m) \u001b[39m==\u001b[39m \u001b[39mTrue\u001b[39;00m:\n\u001b[1;32m     <a href='vscode-notebook-cell:/Users/sanghyun/Desktop/Coding/00.Todo/python_algorithm/%5BDFS%5DfreezeDrinks.ipynb#W4sZmlsZQ%3D%3D?line=38'>39</a>\u001b[0m             result \u001b[39m+\u001b[39m\u001b[39m=\u001b[39m \u001b[39m1\u001b[39m\n\u001b[1;32m     <a href='vscode-notebook-cell:/Users/sanghyun/Desktop/Coding/00.Todo/python_algorithm/%5BDFS%5DfreezeDrinks.ipynb#W4sZmlsZQ%3D%3D?line=40'>41</a>\u001b[0m \u001b[39mprint\u001b[39m(result)\n",
      "\u001b[1;32m/Users/sanghyun/Desktop/Coding/00.Todo/python_algorithm/[DFS]freezeDrinks.ipynb 셀 3\u001b[0m in \u001b[0;36mdfs\u001b[0;34m(x, y, depth, name)\u001b[0m\n\u001b[1;32m     <a href='vscode-notebook-cell:/Users/sanghyun/Desktop/Coding/00.Todo/python_algorithm/%5BDFS%5DfreezeDrinks.ipynb#W4sZmlsZQ%3D%3D?line=20'>21</a>\u001b[0m ice[x][y] \u001b[39m=\u001b[39m \u001b[39m1\u001b[39m\n\u001b[1;32m     <a href='vscode-notebook-cell:/Users/sanghyun/Desktop/Coding/00.Todo/python_algorithm/%5BDFS%5DfreezeDrinks.ipynb#W4sZmlsZQ%3D%3D?line=21'>22</a>\u001b[0m \u001b[39m#print(*ice, sep='\\n')\u001b[39;00m\n\u001b[0;32m---> <a href='vscode-notebook-cell:/Users/sanghyun/Desktop/Coding/00.Todo/python_algorithm/%5BDFS%5DfreezeDrinks.ipynb#W4sZmlsZQ%3D%3D?line=23'>24</a>\u001b[0m dfs(x\u001b[39m-\u001b[39;49m\u001b[39m1\u001b[39;49m,y,depth,name\u001b[39m=\u001b[39;49m\u001b[39m\"\u001b[39;49m\u001b[39m서\u001b[39;49m\u001b[39m\"\u001b[39;49m)\n\u001b[1;32m     <a href='vscode-notebook-cell:/Users/sanghyun/Desktop/Coding/00.Todo/python_algorithm/%5BDFS%5DfreezeDrinks.ipynb#W4sZmlsZQ%3D%3D?line=24'>25</a>\u001b[0m dfs(x,y\u001b[39m-\u001b[39m\u001b[39m1\u001b[39m,depth,name\u001b[39m=\u001b[39m\u001b[39m\"\u001b[39m\u001b[39m남\u001b[39m\u001b[39m\"\u001b[39m)\n\u001b[1;32m     <a href='vscode-notebook-cell:/Users/sanghyun/Desktop/Coding/00.Todo/python_algorithm/%5BDFS%5DfreezeDrinks.ipynb#W4sZmlsZQ%3D%3D?line=25'>26</a>\u001b[0m dfs(x\u001b[39m+\u001b[39m\u001b[39m1\u001b[39m,y,depth,name\u001b[39m=\u001b[39m\u001b[39m\"\u001b[39m\u001b[39m동\u001b[39m\u001b[39m\"\u001b[39m)\n",
      "\u001b[1;32m/Users/sanghyun/Desktop/Coding/00.Todo/python_algorithm/[DFS]freezeDrinks.ipynb 셀 3\u001b[0m in \u001b[0;36mdfs\u001b[0;34m(x, y, depth, name)\u001b[0m\n\u001b[1;32m     <a href='vscode-notebook-cell:/Users/sanghyun/Desktop/Coding/00.Todo/python_algorithm/%5BDFS%5DfreezeDrinks.ipynb#W4sZmlsZQ%3D%3D?line=21'>22</a>\u001b[0m \u001b[39m#print(*ice, sep='\\n')\u001b[39;00m\n\u001b[1;32m     <a href='vscode-notebook-cell:/Users/sanghyun/Desktop/Coding/00.Todo/python_algorithm/%5BDFS%5DfreezeDrinks.ipynb#W4sZmlsZQ%3D%3D?line=23'>24</a>\u001b[0m dfs(x\u001b[39m-\u001b[39m\u001b[39m1\u001b[39m,y,depth,name\u001b[39m=\u001b[39m\u001b[39m\"\u001b[39m\u001b[39m서\u001b[39m\u001b[39m\"\u001b[39m)\n\u001b[0;32m---> <a href='vscode-notebook-cell:/Users/sanghyun/Desktop/Coding/00.Todo/python_algorithm/%5BDFS%5DfreezeDrinks.ipynb#W4sZmlsZQ%3D%3D?line=24'>25</a>\u001b[0m dfs(x,y\u001b[39m-\u001b[39;49m\u001b[39m1\u001b[39;49m,depth,name\u001b[39m=\u001b[39;49m\u001b[39m\"\u001b[39;49m\u001b[39m남\u001b[39;49m\u001b[39m\"\u001b[39;49m)\n\u001b[1;32m     <a href='vscode-notebook-cell:/Users/sanghyun/Desktop/Coding/00.Todo/python_algorithm/%5BDFS%5DfreezeDrinks.ipynb#W4sZmlsZQ%3D%3D?line=25'>26</a>\u001b[0m dfs(x\u001b[39m+\u001b[39m\u001b[39m1\u001b[39m,y,depth,name\u001b[39m=\u001b[39m\u001b[39m\"\u001b[39m\u001b[39m동\u001b[39m\u001b[39m\"\u001b[39m)\n\u001b[1;32m     <a href='vscode-notebook-cell:/Users/sanghyun/Desktop/Coding/00.Todo/python_algorithm/%5BDFS%5DfreezeDrinks.ipynb#W4sZmlsZQ%3D%3D?line=26'>27</a>\u001b[0m dfs(x,y\u001b[39m+\u001b[39m\u001b[39m1\u001b[39m,depth,name\u001b[39m=\u001b[39m\u001b[39m\"\u001b[39m\u001b[39m북\u001b[39m\u001b[39m\"\u001b[39m)\n",
      "\u001b[1;32m/Users/sanghyun/Desktop/Coding/00.Todo/python_algorithm/[DFS]freezeDrinks.ipynb 셀 3\u001b[0m in \u001b[0;36mdfs\u001b[0;34m(x, y, depth, name)\u001b[0m\n\u001b[1;32m     <a href='vscode-notebook-cell:/Users/sanghyun/Desktop/Coding/00.Todo/python_algorithm/%5BDFS%5DfreezeDrinks.ipynb#W4sZmlsZQ%3D%3D?line=21'>22</a>\u001b[0m \u001b[39m#print(*ice, sep='\\n')\u001b[39;00m\n\u001b[1;32m     <a href='vscode-notebook-cell:/Users/sanghyun/Desktop/Coding/00.Todo/python_algorithm/%5BDFS%5DfreezeDrinks.ipynb#W4sZmlsZQ%3D%3D?line=23'>24</a>\u001b[0m dfs(x\u001b[39m-\u001b[39m\u001b[39m1\u001b[39m,y,depth,name\u001b[39m=\u001b[39m\u001b[39m\"\u001b[39m\u001b[39m서\u001b[39m\u001b[39m\"\u001b[39m)\n\u001b[0;32m---> <a href='vscode-notebook-cell:/Users/sanghyun/Desktop/Coding/00.Todo/python_algorithm/%5BDFS%5DfreezeDrinks.ipynb#W4sZmlsZQ%3D%3D?line=24'>25</a>\u001b[0m dfs(x,y\u001b[39m-\u001b[39;49m\u001b[39m1\u001b[39;49m,depth,name\u001b[39m=\u001b[39;49m\u001b[39m\"\u001b[39;49m\u001b[39m남\u001b[39;49m\u001b[39m\"\u001b[39;49m)\n\u001b[1;32m     <a href='vscode-notebook-cell:/Users/sanghyun/Desktop/Coding/00.Todo/python_algorithm/%5BDFS%5DfreezeDrinks.ipynb#W4sZmlsZQ%3D%3D?line=25'>26</a>\u001b[0m dfs(x\u001b[39m+\u001b[39m\u001b[39m1\u001b[39m,y,depth,name\u001b[39m=\u001b[39m\u001b[39m\"\u001b[39m\u001b[39m동\u001b[39m\u001b[39m\"\u001b[39m)\n\u001b[1;32m     <a href='vscode-notebook-cell:/Users/sanghyun/Desktop/Coding/00.Todo/python_algorithm/%5BDFS%5DfreezeDrinks.ipynb#W4sZmlsZQ%3D%3D?line=26'>27</a>\u001b[0m dfs(x,y\u001b[39m+\u001b[39m\u001b[39m1\u001b[39m,depth,name\u001b[39m=\u001b[39m\u001b[39m\"\u001b[39m\u001b[39m북\u001b[39m\u001b[39m\"\u001b[39m)\n",
      "    \u001b[0;31m[... skipping similar frames: dfs at line 25 (1 times)]\u001b[0m\n",
      "\u001b[1;32m/Users/sanghyun/Desktop/Coding/00.Todo/python_algorithm/[DFS]freezeDrinks.ipynb 셀 3\u001b[0m in \u001b[0;36mdfs\u001b[0;34m(x, y, depth, name)\u001b[0m\n\u001b[1;32m     <a href='vscode-notebook-cell:/Users/sanghyun/Desktop/Coding/00.Todo/python_algorithm/%5BDFS%5DfreezeDrinks.ipynb#W4sZmlsZQ%3D%3D?line=21'>22</a>\u001b[0m \u001b[39m#print(*ice, sep='\\n')\u001b[39;00m\n\u001b[1;32m     <a href='vscode-notebook-cell:/Users/sanghyun/Desktop/Coding/00.Todo/python_algorithm/%5BDFS%5DfreezeDrinks.ipynb#W4sZmlsZQ%3D%3D?line=23'>24</a>\u001b[0m dfs(x\u001b[39m-\u001b[39m\u001b[39m1\u001b[39m,y,depth,name\u001b[39m=\u001b[39m\u001b[39m\"\u001b[39m\u001b[39m서\u001b[39m\u001b[39m\"\u001b[39m)\n\u001b[0;32m---> <a href='vscode-notebook-cell:/Users/sanghyun/Desktop/Coding/00.Todo/python_algorithm/%5BDFS%5DfreezeDrinks.ipynb#W4sZmlsZQ%3D%3D?line=24'>25</a>\u001b[0m dfs(x,y\u001b[39m-\u001b[39;49m\u001b[39m1\u001b[39;49m,depth,name\u001b[39m=\u001b[39;49m\u001b[39m\"\u001b[39;49m\u001b[39m남\u001b[39;49m\u001b[39m\"\u001b[39;49m)\n\u001b[1;32m     <a href='vscode-notebook-cell:/Users/sanghyun/Desktop/Coding/00.Todo/python_algorithm/%5BDFS%5DfreezeDrinks.ipynb#W4sZmlsZQ%3D%3D?line=25'>26</a>\u001b[0m dfs(x\u001b[39m+\u001b[39m\u001b[39m1\u001b[39m,y,depth,name\u001b[39m=\u001b[39m\u001b[39m\"\u001b[39m\u001b[39m동\u001b[39m\u001b[39m\"\u001b[39m)\n\u001b[1;32m     <a href='vscode-notebook-cell:/Users/sanghyun/Desktop/Coding/00.Todo/python_algorithm/%5BDFS%5DfreezeDrinks.ipynb#W4sZmlsZQ%3D%3D?line=26'>27</a>\u001b[0m dfs(x,y\u001b[39m+\u001b[39m\u001b[39m1\u001b[39m,depth,name\u001b[39m=\u001b[39m\u001b[39m\"\u001b[39m\u001b[39m북\u001b[39m\u001b[39m\"\u001b[39m)\n",
      "\u001b[1;32m/Users/sanghyun/Desktop/Coding/00.Todo/python_algorithm/[DFS]freezeDrinks.ipynb 셀 3\u001b[0m in \u001b[0;36mdfs\u001b[0;34m(x, y, depth, name)\u001b[0m\n\u001b[1;32m     <a href='vscode-notebook-cell:/Users/sanghyun/Desktop/Coding/00.Todo/python_algorithm/%5BDFS%5DfreezeDrinks.ipynb#W4sZmlsZQ%3D%3D?line=23'>24</a>\u001b[0m dfs(x\u001b[39m-\u001b[39m\u001b[39m1\u001b[39m,y,depth,name\u001b[39m=\u001b[39m\u001b[39m\"\u001b[39m\u001b[39m서\u001b[39m\u001b[39m\"\u001b[39m)\n\u001b[1;32m     <a href='vscode-notebook-cell:/Users/sanghyun/Desktop/Coding/00.Todo/python_algorithm/%5BDFS%5DfreezeDrinks.ipynb#W4sZmlsZQ%3D%3D?line=24'>25</a>\u001b[0m dfs(x,y\u001b[39m-\u001b[39m\u001b[39m1\u001b[39m,depth,name\u001b[39m=\u001b[39m\u001b[39m\"\u001b[39m\u001b[39m남\u001b[39m\u001b[39m\"\u001b[39m)\n\u001b[0;32m---> <a href='vscode-notebook-cell:/Users/sanghyun/Desktop/Coding/00.Todo/python_algorithm/%5BDFS%5DfreezeDrinks.ipynb#W4sZmlsZQ%3D%3D?line=25'>26</a>\u001b[0m dfs(x\u001b[39m+\u001b[39;49m\u001b[39m1\u001b[39;49m,y,depth,name\u001b[39m=\u001b[39;49m\u001b[39m\"\u001b[39;49m\u001b[39m동\u001b[39;49m\u001b[39m\"\u001b[39;49m)\n\u001b[1;32m     <a href='vscode-notebook-cell:/Users/sanghyun/Desktop/Coding/00.Todo/python_algorithm/%5BDFS%5DfreezeDrinks.ipynb#W4sZmlsZQ%3D%3D?line=26'>27</a>\u001b[0m dfs(x,y\u001b[39m+\u001b[39m\u001b[39m1\u001b[39m,depth,name\u001b[39m=\u001b[39m\u001b[39m\"\u001b[39m\u001b[39m북\u001b[39m\u001b[39m\"\u001b[39m)\n\u001b[1;32m     <a href='vscode-notebook-cell:/Users/sanghyun/Desktop/Coding/00.Todo/python_algorithm/%5BDFS%5DfreezeDrinks.ipynb#W4sZmlsZQ%3D%3D?line=28'>29</a>\u001b[0m \u001b[39mreturn\u001b[39;00m \u001b[39mTrue\u001b[39;00m\n",
      "\u001b[1;32m/Users/sanghyun/Desktop/Coding/00.Todo/python_algorithm/[DFS]freezeDrinks.ipynb 셀 3\u001b[0m in \u001b[0;36mdfs\u001b[0;34m(x, y, depth, name)\u001b[0m\n\u001b[1;32m     <a href='vscode-notebook-cell:/Users/sanghyun/Desktop/Coding/00.Todo/python_algorithm/%5BDFS%5DfreezeDrinks.ipynb#W4sZmlsZQ%3D%3D?line=23'>24</a>\u001b[0m dfs(x\u001b[39m-\u001b[39m\u001b[39m1\u001b[39m,y,depth,name\u001b[39m=\u001b[39m\u001b[39m\"\u001b[39m\u001b[39m서\u001b[39m\u001b[39m\"\u001b[39m)\n\u001b[1;32m     <a href='vscode-notebook-cell:/Users/sanghyun/Desktop/Coding/00.Todo/python_algorithm/%5BDFS%5DfreezeDrinks.ipynb#W4sZmlsZQ%3D%3D?line=24'>25</a>\u001b[0m dfs(x,y\u001b[39m-\u001b[39m\u001b[39m1\u001b[39m,depth,name\u001b[39m=\u001b[39m\u001b[39m\"\u001b[39m\u001b[39m남\u001b[39m\u001b[39m\"\u001b[39m)\n\u001b[0;32m---> <a href='vscode-notebook-cell:/Users/sanghyun/Desktop/Coding/00.Todo/python_algorithm/%5BDFS%5DfreezeDrinks.ipynb#W4sZmlsZQ%3D%3D?line=25'>26</a>\u001b[0m dfs(x\u001b[39m+\u001b[39;49m\u001b[39m1\u001b[39;49m,y,depth,name\u001b[39m=\u001b[39;49m\u001b[39m\"\u001b[39;49m\u001b[39m동\u001b[39;49m\u001b[39m\"\u001b[39;49m)\n\u001b[1;32m     <a href='vscode-notebook-cell:/Users/sanghyun/Desktop/Coding/00.Todo/python_algorithm/%5BDFS%5DfreezeDrinks.ipynb#W4sZmlsZQ%3D%3D?line=26'>27</a>\u001b[0m dfs(x,y\u001b[39m+\u001b[39m\u001b[39m1\u001b[39m,depth,name\u001b[39m=\u001b[39m\u001b[39m\"\u001b[39m\u001b[39m북\u001b[39m\u001b[39m\"\u001b[39m)\n\u001b[1;32m     <a href='vscode-notebook-cell:/Users/sanghyun/Desktop/Coding/00.Todo/python_algorithm/%5BDFS%5DfreezeDrinks.ipynb#W4sZmlsZQ%3D%3D?line=28'>29</a>\u001b[0m \u001b[39mreturn\u001b[39;00m \u001b[39mTrue\u001b[39;00m\n",
      "\u001b[1;32m/Users/sanghyun/Desktop/Coding/00.Todo/python_algorithm/[DFS]freezeDrinks.ipynb 셀 3\u001b[0m in \u001b[0;36mdfs\u001b[0;34m(x, y, depth, name)\u001b[0m\n\u001b[1;32m     <a href='vscode-notebook-cell:/Users/sanghyun/Desktop/Coding/00.Todo/python_algorithm/%5BDFS%5DfreezeDrinks.ipynb#W4sZmlsZQ%3D%3D?line=21'>22</a>\u001b[0m \u001b[39m#print(*ice, sep='\\n')\u001b[39;00m\n\u001b[1;32m     <a href='vscode-notebook-cell:/Users/sanghyun/Desktop/Coding/00.Todo/python_algorithm/%5BDFS%5DfreezeDrinks.ipynb#W4sZmlsZQ%3D%3D?line=23'>24</a>\u001b[0m dfs(x\u001b[39m-\u001b[39m\u001b[39m1\u001b[39m,y,depth,name\u001b[39m=\u001b[39m\u001b[39m\"\u001b[39m\u001b[39m서\u001b[39m\u001b[39m\"\u001b[39m)\n\u001b[0;32m---> <a href='vscode-notebook-cell:/Users/sanghyun/Desktop/Coding/00.Todo/python_algorithm/%5BDFS%5DfreezeDrinks.ipynb#W4sZmlsZQ%3D%3D?line=24'>25</a>\u001b[0m dfs(x,y\u001b[39m-\u001b[39;49m\u001b[39m1\u001b[39;49m,depth,name\u001b[39m=\u001b[39;49m\u001b[39m\"\u001b[39;49m\u001b[39m남\u001b[39;49m\u001b[39m\"\u001b[39;49m)\n\u001b[1;32m     <a href='vscode-notebook-cell:/Users/sanghyun/Desktop/Coding/00.Todo/python_algorithm/%5BDFS%5DfreezeDrinks.ipynb#W4sZmlsZQ%3D%3D?line=25'>26</a>\u001b[0m dfs(x\u001b[39m+\u001b[39m\u001b[39m1\u001b[39m,y,depth,name\u001b[39m=\u001b[39m\u001b[39m\"\u001b[39m\u001b[39m동\u001b[39m\u001b[39m\"\u001b[39m)\n\u001b[1;32m     <a href='vscode-notebook-cell:/Users/sanghyun/Desktop/Coding/00.Todo/python_algorithm/%5BDFS%5DfreezeDrinks.ipynb#W4sZmlsZQ%3D%3D?line=26'>27</a>\u001b[0m dfs(x,y\u001b[39m+\u001b[39m\u001b[39m1\u001b[39m,depth,name\u001b[39m=\u001b[39m\u001b[39m\"\u001b[39m\u001b[39m북\u001b[39m\u001b[39m\"\u001b[39m)\n",
      "\u001b[1;32m/Users/sanghyun/Desktop/Coding/00.Todo/python_algorithm/[DFS]freezeDrinks.ipynb 셀 3\u001b[0m in \u001b[0;36mdfs\u001b[0;34m(x, y, depth, name)\u001b[0m\n\u001b[1;32m     <a href='vscode-notebook-cell:/Users/sanghyun/Desktop/Coding/00.Todo/python_algorithm/%5BDFS%5DfreezeDrinks.ipynb#W4sZmlsZQ%3D%3D?line=21'>22</a>\u001b[0m \u001b[39m#print(*ice, sep='\\n')\u001b[39;00m\n\u001b[1;32m     <a href='vscode-notebook-cell:/Users/sanghyun/Desktop/Coding/00.Todo/python_algorithm/%5BDFS%5DfreezeDrinks.ipynb#W4sZmlsZQ%3D%3D?line=23'>24</a>\u001b[0m dfs(x\u001b[39m-\u001b[39m\u001b[39m1\u001b[39m,y,depth,name\u001b[39m=\u001b[39m\u001b[39m\"\u001b[39m\u001b[39m서\u001b[39m\u001b[39m\"\u001b[39m)\n\u001b[0;32m---> <a href='vscode-notebook-cell:/Users/sanghyun/Desktop/Coding/00.Todo/python_algorithm/%5BDFS%5DfreezeDrinks.ipynb#W4sZmlsZQ%3D%3D?line=24'>25</a>\u001b[0m dfs(x,y\u001b[39m-\u001b[39;49m\u001b[39m1\u001b[39;49m,depth,name\u001b[39m=\u001b[39;49m\u001b[39m\"\u001b[39;49m\u001b[39m남\u001b[39;49m\u001b[39m\"\u001b[39;49m)\n\u001b[1;32m     <a href='vscode-notebook-cell:/Users/sanghyun/Desktop/Coding/00.Todo/python_algorithm/%5BDFS%5DfreezeDrinks.ipynb#W4sZmlsZQ%3D%3D?line=25'>26</a>\u001b[0m dfs(x\u001b[39m+\u001b[39m\u001b[39m1\u001b[39m,y,depth,name\u001b[39m=\u001b[39m\u001b[39m\"\u001b[39m\u001b[39m동\u001b[39m\u001b[39m\"\u001b[39m)\n\u001b[1;32m     <a href='vscode-notebook-cell:/Users/sanghyun/Desktop/Coding/00.Todo/python_algorithm/%5BDFS%5DfreezeDrinks.ipynb#W4sZmlsZQ%3D%3D?line=26'>27</a>\u001b[0m dfs(x,y\u001b[39m+\u001b[39m\u001b[39m1\u001b[39m,depth,name\u001b[39m=\u001b[39m\u001b[39m\"\u001b[39m\u001b[39m북\u001b[39m\u001b[39m\"\u001b[39m)\n",
      "\u001b[1;32m/Users/sanghyun/Desktop/Coding/00.Todo/python_algorithm/[DFS]freezeDrinks.ipynb 셀 3\u001b[0m in \u001b[0;36mdfs\u001b[0;34m(x, y, depth, name)\u001b[0m\n\u001b[1;32m     <a href='vscode-notebook-cell:/Users/sanghyun/Desktop/Coding/00.Todo/python_algorithm/%5BDFS%5DfreezeDrinks.ipynb#W4sZmlsZQ%3D%3D?line=16'>17</a>\u001b[0m depth \u001b[39m+\u001b[39m\u001b[39m=\u001b[39m \u001b[39m1\u001b[39m\n\u001b[1;32m     <a href='vscode-notebook-cell:/Users/sanghyun/Desktop/Coding/00.Todo/python_algorithm/%5BDFS%5DfreezeDrinks.ipynb#W4sZmlsZQ%3D%3D?line=18'>19</a>\u001b[0m \u001b[39mif\u001b[39;00m x \u001b[39m>\u001b[39m\u001b[39m=\u001b[39m \u001b[39m0\u001b[39m \u001b[39mor\u001b[39;00m x \u001b[39m<\u001b[39m n \u001b[39mor\u001b[39;00m y \u001b[39m>\u001b[39m\u001b[39m=\u001b[39m \u001b[39m0\u001b[39m \u001b[39mor\u001b[39;00m y \u001b[39m<\u001b[39m m:\n\u001b[0;32m---> <a href='vscode-notebook-cell:/Users/sanghyun/Desktop/Coding/00.Todo/python_algorithm/%5BDFS%5DfreezeDrinks.ipynb#W4sZmlsZQ%3D%3D?line=19'>20</a>\u001b[0m     \u001b[39mif\u001b[39;00m ice[x][y] \u001b[39m==\u001b[39m \u001b[39m0\u001b[39m:\n\u001b[1;32m     <a href='vscode-notebook-cell:/Users/sanghyun/Desktop/Coding/00.Todo/python_algorithm/%5BDFS%5DfreezeDrinks.ipynb#W4sZmlsZQ%3D%3D?line=20'>21</a>\u001b[0m         ice[x][y] \u001b[39m=\u001b[39m \u001b[39m1\u001b[39m\n\u001b[1;32m     <a href='vscode-notebook-cell:/Users/sanghyun/Desktop/Coding/00.Todo/python_algorithm/%5BDFS%5DfreezeDrinks.ipynb#W4sZmlsZQ%3D%3D?line=21'>22</a>\u001b[0m         \u001b[39m#print(*ice, sep='\\n')\u001b[39;00m\n",
      "\u001b[0;31mIndexError\u001b[0m: list index out of range"
     ]
    }
   ],
   "source": [
    "# n, m = map(int, input().split())\n",
    "# 실패...\n",
    "\n",
    "n, m = 4, 5\n",
    "z = ['00110',\n",
    "'00011',\n",
    "'11111',\n",
    "'00000']\n",
    "ice = []\n",
    "result = 0\n",
    "\n",
    "for i in range(n):\n",
    "    ice.append(list(map(int,z[i])))\n",
    "\n",
    "def dfs(x, y, depth, name='main'):\n",
    "    #print(\"x,y,way,깊이 = \", x,y,name,depth)\n",
    "    depth += 1\n",
    "\n",
    "    if x >= 0 or x < n or y >= 0 or y < m:\n",
    "        if ice[x][y] == 0:\n",
    "            ice[x][y] = 1\n",
    "            #print(*ice, sep='\\n')\n",
    "            \n",
    "            dfs(x,y-1,depth,name=\"서\")\n",
    "            dfs(x,y-1,depth,name=\"남\")\n",
    "            dfs(x,y-1,depth,name=\"동\")\n",
    "            dfs(x,y-1,depth,name=\"북\")\n",
    "\n",
    "            return True\n",
    "        else:\n",
    "            return False\n",
    "    else:\n",
    "        return False\n",
    "\n",
    "\n",
    "for j in range(n):\n",
    "    for k in range(m):\n",
    "        if dfs(j,k,1) == True:\n",
    "            result += 1\n",
    "\n",
    "print(result)"
   ]
  },
  {
   "cell_type": "code",
   "execution_count": 1,
   "metadata": {},
   "outputs": [
    {
     "name": "stdout",
     "output_type": "stream",
     "text": [
      "3\n"
     ]
    }
   ],
   "source": [
    "## 책에 있는 정답\n",
    "\n",
    "# N, M을 공백을 기준으로 구분하여 입력 받기\n",
    "n, m = map(int, input().split())\n",
    "\n",
    "# 2차원 리스트의 맵 정보 입력 받기\n",
    "graph = []\n",
    "for i in range(n):\n",
    "    graph.append(list(map(int, input())))\n",
    "\n",
    "# DFS로 특정한 노드를 방문한 뒤에 연결된 모든 노드들도 방문\n",
    "def dfs(x, y):\n",
    "    # 주어진 범위를 벗어나는 경우에는 즉시 종료\n",
    "    if x <= -1 or x >= n or y <= -1 or y >= m:\n",
    "        return False\n",
    "    # 현재 노드를 아직 방문하지 않았다면\n",
    "    if graph[x][y] == 0:\n",
    "        # 해당 노드 방문 처리\n",
    "        graph[x][y] = 1\n",
    "        # 상, 하, 좌, 우의 위치들도 모두 재귀적으로 호출\n",
    "        dfs(x - 1, y)\n",
    "        dfs(x, y - 1)\n",
    "        dfs(x + 1, y)\n",
    "        dfs(x, y + 1)\n",
    "        return True\n",
    "    return False\n",
    "\n",
    "# 모든 노드(위치)에 대하여 음료수 채우기\n",
    "result = 0\n",
    "for i in range(n):\n",
    "    for j in range(m):\n",
    "        # 현재 위치에서 DFS 수행\n",
    "        if dfs(i, j) == True:\n",
    "            result += 1\n",
    "\n",
    "print(result) # 정답 출력"
   ]
  },
  {
   "cell_type": "code",
   "execution_count": null,
   "metadata": {},
   "outputs": [],
   "source": []
  }
 ],
 "metadata": {
  "kernelspec": {
   "display_name": "yeardream",
   "language": "python",
   "name": "python3"
  },
  "language_info": {
   "codemirror_mode": {
    "name": "ipython",
    "version": 3
   },
   "file_extension": ".py",
   "mimetype": "text/x-python",
   "name": "python",
   "nbconvert_exporter": "python",
   "pygments_lexer": "ipython3",
   "version": "3.8.13"
  },
  "orig_nbformat": 4
 },
 "nbformat": 4,
 "nbformat_minor": 2
}
