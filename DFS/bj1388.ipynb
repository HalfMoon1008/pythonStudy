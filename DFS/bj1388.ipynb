{
 "cells": [
  {
   "cell_type": "code",
   "execution_count": null,
   "metadata": {},
   "outputs": [],
   "source": [
    "## 바닥 장식 / 백준 1388\n",
    "\n",
    "# 형택이는 건축가이다. 지금 막 형택이는 형택이의 남자 친구 기훈이의 집을 막 완성시켰다.\n",
    "# 형택이는 기훈이 방의 바닥 장식을 디자인했고, 이제 몇 개의 나무 판자가 필요한지 궁금해졌다.\n",
    "# 나무 판자는 크기 1의 너비를 가졌고, 양수의 길이를 가지고 있다. 기훈이 방은 직사각형 모양이고,\n",
    "# 방 안에는 벽과 평행한 모양의 정사각형으로 나누어져 있다.\n",
    "\n",
    "# 이제 ‘-’와 ‘|’로 이루어진 바닥 장식 모양이 주어진다. 만약 두 개의 ‘-’가 인접해 있고, 같은 행에 있다면,\n",
    "# 두 개는 같은 나무 판자이고, 두 개의 ‘|’가 인접해 있고, 같은 열에 있다면, 두 개는 같은 나무 판자이다.\n",
    "\n",
    "# 기훈이의 방 바닥을 장식하는데 필요한 나무 판자의 개수를 출력하는 프로그램을 작성하시오.\n",
    "\n",
    "## 입력\n",
    "# 첫째 줄에 방 바닥의 세로 크기N과 가로 크기 M이 주어진다. 둘째 줄부터 N개의 줄에 M개의 문자가 주어진다.\n",
    "# 이것은 바닥 장식 모양이고, '-‘와 ’|‘로만 이루어져 있다. N과 M은 50 이하인 자연수이다.\n",
    "\n",
    "## 출력\n",
    "# 첫째 줄에 문제의 정답을 출력한다.\n",
    "\n",
    "## 입력 예시 1\n",
    "# 4 4\n",
    "# ----\n",
    "# ----\n",
    "# ----\n",
    "# ----\n",
    "\n",
    "## 출력 예시 1\n",
    "# 4\n",
    "\n",
    "\n",
    "## 입력 예시 2\n",
    "# 6 9\n",
    "# -||--||--\n",
    "# --||--||-\n",
    "# |--||--||\n",
    "# ||--||--|\n",
    "# -||--||--\n",
    "# --||--||-\n",
    "\n",
    "## 출력 예시\n",
    "# 31"
   ]
  },
  {
   "cell_type": "code",
   "execution_count": 1,
   "metadata": {},
   "outputs": [
    {
     "name": "stdout",
     "output_type": "stream",
     "text": [
      "4\n"
     ]
    }
   ],
   "source": [
    "# 가로 혹은 새로 기준으로 1씩 증가시켜 ㅣ 혹은 ㅡ 를 확인\n",
    "\n",
    "def dfs1(x,y):#위아래보기\n",
    "    if x < 0 or x >= n or y < 0 or y >= m:\n",
    "        return\n",
    "    if graph[x][y] == 'ㅣ':\n",
    "        graph[x][y] = True\n",
    "        dfs1(x+1,y)\n",
    "        dfs1(x-1,y)\n",
    "        return True\n",
    "    return False\n",
    "\n",
    "def dfs2(x,y):\n",
    "    if x < 0 or x >= n or y < 0 or y >= m:\n",
    "        return\n",
    "    if graph[x][y] == 'ㅡ':\n",
    "        graph[x][y] = True\n",
    "        dfs2(x,y+1)\n",
    "        dfs2(x,y-1)\n",
    "        return True\n",
    "    return False\n",
    "\n",
    "n , m = map(int,input().split())\n",
    "graph = [ list(input()) for _ in range(n) ]\n",
    "cnt = 0\n",
    "\n",
    "for i in range(n):\n",
    "    for j in range(m):\n",
    "        if dfs1(i,j) == True:\n",
    "            cnt += 1\n",
    "        if dfs2(i,j) == True:\n",
    "            cnt += 1\n",
    "print(cnt)"
   ]
  },
  {
   "cell_type": "code",
   "execution_count": null,
   "metadata": {},
   "outputs": [],
   "source": []
  }
 ],
 "metadata": {
  "kernelspec": {
   "display_name": "yeardream",
   "language": "python",
   "name": "python3"
  },
  "language_info": {
   "codemirror_mode": {
    "name": "ipython",
    "version": 3
   },
   "file_extension": ".py",
   "mimetype": "text/x-python",
   "name": "python",
   "nbconvert_exporter": "python",
   "pygments_lexer": "ipython3",
   "version": "3.8.13"
  },
  "orig_nbformat": 4
 },
 "nbformat": 4,
 "nbformat_minor": 2
}
