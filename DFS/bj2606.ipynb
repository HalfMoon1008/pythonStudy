{
 "cells": [
  {
   "cell_type": "code",
   "execution_count": null,
   "metadata": {},
   "outputs": [],
   "source": [
    "## 바이러스 / 백준 2606\n",
    "\n",
    "# 신종 바이러스인 웜 바이러스는 네트워크를 통해 전파된다.\n",
    "# 한 컴퓨터가 웜 바이러스에 걸리면 그 컴퓨터와 네트워크 상에서 연결되어 있는 모든 컴퓨터는 웜 바이러스에 걸리게 된다.\n",
    "\n",
    "# 예를 들어 7대의 컴퓨터가 <그림 1>과 같이 네트워크 상에서 연결되어 있다고 하자. \n",
    "# 1번 컴퓨터가 웜 바이러스에 걸리면 웜 바이러스는 2번과 5번 컴퓨터를 거쳐 3번과 6번 컴퓨터까지 전파되어 \n",
    "# 2, 3, 5, 6 네 대의 컴퓨터는 웜 바이러스에 걸리게 된다.\n",
    "# 하지만 4번과 7번 컴퓨터는 1번 컴퓨터와 네트워크상에서 연결되어 있지 않기 때문에 영향을 받지 않는다.\n",
    "\n",
    "# 어느 날 1번 컴퓨터가 웜 바이러스에 걸렸다. \n",
    "# 컴퓨터의 수와 네트워크 상에서 서로 연결되어 있는 정보가 주어질 때, \n",
    "# 1번 컴퓨터를 통해 웜 바이러스에 걸리게 되는 컴퓨터의 수를 출력하는 프로그램을 작성하시오.\n",
    "\n",
    "## 입력 예시\n",
    "# 7\n",
    "# 6\n",
    "# 1 2\n",
    "# 2 3\n",
    "# 1 5\n",
    "# 5 2\n",
    "# 5 6\n",
    "# 4 7\n",
    "\n",
    "## 출력 예시\n",
    "# 4"
   ]
  },
  {
   "cell_type": "markdown",
   "metadata": {},
   "source": [
    "![img](./img/2606.png)"
   ]
  },
  {
   "cell_type": "code",
   "execution_count": 1,
   "metadata": {},
   "outputs": [
    {
     "name": "stdout",
     "output_type": "stream",
     "text": [
      "4\n"
     ]
    }
   ],
   "source": [
    "N = int(input()) # 컴퓨터의 수\n",
    "C = int(input()) # 연결된 컴퓨터 쌍의 수\n",
    "\n",
    "graph = [[] for i in range(N+1)] # 연결된 컴퓨터 쌍의 수만큼 반복 [[], [], [], [], [], [], [], []]\n",
    "visited = [0] * (N+1) # 방문처리 [0, 0, 0, 0, 0, 0, 0, 0]\n",
    "\n",
    "for i in range(C): # 연결된 컴퓨터 쌍의 수만큼 반복\n",
    "  a, b = map(int, input().split())\n",
    "  graph[a].append(b) # 양쪽을 연결\n",
    "  graph[b].append(a) # [[], [2, 5], [1, 3, 5], [2], [7], [1, 2, 6], [5], [4]]\n",
    "\n",
    "def dfs(M):\n",
    "  visited[M] = 1\n",
    "  for nx in graph[M]: # [2, 5] or [1, 3, 5] or [1, 2, 6] 등\n",
    "    if visited[nx] == 0:\n",
    "      dfs(nx)\n",
    "\n",
    "dfs(1)\n",
    "print(sum(visited)-1)"
   ]
  },
  {
   "cell_type": "code",
   "execution_count": null,
   "metadata": {},
   "outputs": [],
   "source": []
  }
 ],
 "metadata": {
  "kernelspec": {
   "display_name": "yeardream",
   "language": "python",
   "name": "python3"
  },
  "language_info": {
   "codemirror_mode": {
    "name": "ipython",
    "version": 3
   },
   "file_extension": ".py",
   "mimetype": "text/x-python",
   "name": "python",
   "nbconvert_exporter": "python",
   "pygments_lexer": "ipython3",
   "version": "3.8.13"
  },
  "orig_nbformat": 4
 },
 "nbformat": 4,
 "nbformat_minor": 2
}
